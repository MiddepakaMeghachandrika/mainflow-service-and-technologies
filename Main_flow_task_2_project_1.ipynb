{
  "nbformat": 4,
  "nbformat_minor": 0,
  "metadata": {
    "colab": {
      "provenance": []
    },
    "kernelspec": {
      "name": "python3",
      "display_name": "Python 3"
    },
    "language_info": {
      "name": "python"
    }
  },
  "cells": [
    {
      "cell_type": "code",
      "execution_count": 1,
      "metadata": {
        "colab": {
          "base_uri": "https://localhost:8080/"
        },
        "id": "8D0AUkaw2f_D",
        "outputId": "c4435529-87f0-4109-8d56-d2a82f027d97"
      },
      "outputs": [
        {
          "output_type": "stream",
          "name": "stdout",
          "text": [
            "CSV file 'Gobal_supersales.csv' has been created successfully!\n"
          ]
        }
      ],
      "source": [
        "import pandas as pd\n",
        "import numpy as np\n",
        "\n",
        "# Creating dataset with missing values and outliers\n",
        "data_with_missing_outliers = {\n",
        "    \"Sales\": [1500, 2300, 1800, 2700, np.nan, 1200, 4100, 2900, 3200, 2500, 99999, 3100,\n",
        "              3800, 2600, 1400, 3200, -5000, 1900, 4500, 2800, 3100, 2400, 4200, 3500,\n",
        "              3900, 2700, 3000, 3300, 4100, 2800, 3800, 3500, 2200, 2700, 3600, np.nan,\n",
        "              2900, 3400, 2800, 3000, 3200, 2600, 99999, 3100],\n",
        "\n",
        "\n",
        "\n",
        "\n",
        "    \"Region\": [\"North\", \"South\", \"East\", \"West\", \"North\", \"South\", \"East\", \"West\", \"North\", np.nan, \"East\", \"West\",\n",
        "               \"North\", \"South\", \"East\", \"West\", \"North\", \"South\", \"East\", \"West\", \"North\", \"South\", \"East\", np.nan,\n",
        "               \"North\", \"South\", \"East\", \"West\", \"North\", \"South\", \"East\", \"West\", \"North\", \"South\", \"East\", \"West\",\n",
        "               \"North\", \"South\", \"East\", \"West\", \"North\", \"South\", \"East\", \"West\"],\n",
        "\n",
        "    \"Product Category\": [\"Electronics\", \"Furniture\", \"Office Supplies\", \"Electronics\", \"Furniture\", np.nan,\n",
        "                         \"Electronics\", \"Furniture\", \"Office Supplies\", \"Electronics\", \"Furniture\", \"Office Supplies\",\n",
        "                         \"Electronics\", \"Furniture\", \"Office Supplies\", \"Electronics\", \"Furniture\", \"Office Supplies\",\n",
        "                         \"Electronics\", \"Furniture\", \"Office Supplies\", \"Electronics\", np.nan, \"Office Supplies\",\n",
        "                         \"Electronics\", \"Furniture\", \"Office Supplies\", \"Electronics\", \"Furniture\", \"Office Supplies\",\n",
        "                         \"Electronics\", \"Furniture\", \"Office Supplies\", \"Electronics\", \"Furniture\", \"Office Supplies\",\n",
        "                         \"Electronics\", \"Furniture\", \"Office Supplies\", \"Electronics\", \"Furniture\", \"Office Supplies\",\n",
        "                         \"Electronics\", \"Furniture\"],\n",
        "\n",
        "    \"Profit\": [300, 500, np.nan, 700, 1200, 150, 900, 600, 1100, 450, 1300, 750,\n",
        "               1100, 500, 200, 800, 1000, 300, 110000, 550, np.nan, 400, 1250, 950,\n",
        "               1050, 600, 800, np.nan, 1300, 700, 1000, 900, 450, 700, 1100, 1200,\n",
        "               500, 1000, 750, 850, 950, 600, 1100, 700]\n",
        "\n",
        "\n",
        "}\n",
        "\n",
        "# Creating a DataFrame\n",
        "df_missing_outliers = pd.DataFrame(data_with_missing_outliers)\n",
        "\n",
        "# Saving to CSV file\n",
        "csv_filename_outliers = \"Gobal_supersales.csv\"\n",
        "df_missing_outliers.to_csv(csv_filename_outliers, index=False)\n",
        "\n",
        "print(f\"CSV file '{csv_filename_outliers}' has been created successfully!\")\n"
      ]
    },
    {
      "cell_type": "code",
      "source": [
        "df = pd.read_csv('Gobal_supersales.csv')\n",
        "x=df.iloc[:,0:3].values\n",
        "y=df.iloc[:,3].values\n"
      ],
      "metadata": {
        "id": "pUR8Jv9U2oj9"
      },
      "execution_count": 2,
      "outputs": []
    },
    {
      "cell_type": "code",
      "source": [
        "print(x)"
      ],
      "metadata": {
        "colab": {
          "base_uri": "https://localhost:8080/"
        },
        "id": "e-343BiN207M",
        "outputId": "e40d0480-7a09-421a-b64e-e90c51eb2890"
      },
      "execution_count": 3,
      "outputs": [
        {
          "output_type": "stream",
          "name": "stdout",
          "text": [
            "[[1500.0 'North' 'Electronics']\n",
            " [2300.0 'South' 'Furniture']\n",
            " [1800.0 'East' 'Office Supplies']\n",
            " [2700.0 'West' 'Electronics']\n",
            " [nan 'North' 'Furniture']\n",
            " [1200.0 'South' nan]\n",
            " [4100.0 'East' 'Electronics']\n",
            " [2900.0 'West' 'Furniture']\n",
            " [3200.0 'North' 'Office Supplies']\n",
            " [2500.0 nan 'Electronics']\n",
            " [99999.0 'East' 'Furniture']\n",
            " [3100.0 'West' 'Office Supplies']\n",
            " [3800.0 'North' 'Electronics']\n",
            " [2600.0 'South' 'Furniture']\n",
            " [1400.0 'East' 'Office Supplies']\n",
            " [3200.0 'West' 'Electronics']\n",
            " [-5000.0 'North' 'Furniture']\n",
            " [1900.0 'South' 'Office Supplies']\n",
            " [4500.0 'East' 'Electronics']\n",
            " [2800.0 'West' 'Furniture']\n",
            " [3100.0 'North' 'Office Supplies']\n",
            " [2400.0 'South' 'Electronics']\n",
            " [4200.0 'East' nan]\n",
            " [3500.0 nan 'Office Supplies']\n",
            " [3900.0 'North' 'Electronics']\n",
            " [2700.0 'South' 'Furniture']\n",
            " [3000.0 'East' 'Office Supplies']\n",
            " [3300.0 'West' 'Electronics']\n",
            " [4100.0 'North' 'Furniture']\n",
            " [2800.0 'South' 'Office Supplies']\n",
            " [3800.0 'East' 'Electronics']\n",
            " [3500.0 'West' 'Furniture']\n",
            " [2200.0 'North' 'Office Supplies']\n",
            " [2700.0 'South' 'Electronics']\n",
            " [3600.0 'East' 'Furniture']\n",
            " [nan 'West' 'Office Supplies']\n",
            " [2900.0 'North' 'Electronics']\n",
            " [3400.0 'South' 'Furniture']\n",
            " [2800.0 'East' 'Office Supplies']\n",
            " [3000.0 'West' 'Electronics']\n",
            " [3200.0 'North' 'Furniture']\n",
            " [2600.0 'South' 'Office Supplies']\n",
            " [99999.0 'East' 'Electronics']\n",
            " [3100.0 'West' 'Furniture']]\n"
          ]
        }
      ]
    },
    {
      "cell_type": "code",
      "source": [
        "print(y)"
      ],
      "metadata": {
        "colab": {
          "base_uri": "https://localhost:8080/"
        },
        "id": "0Z-HlT6P224d",
        "outputId": "157c44b5-8014-4722-8704-b6ca48db9828"
      },
      "execution_count": 4,
      "outputs": [
        {
          "output_type": "stream",
          "name": "stdout",
          "text": [
            "[   300.    500.     nan    700.   1200.    150.    900.    600.   1100.\n",
            "    450.   1300.    750.   1100.    500.    200.    800.   1000.    300.\n",
            " 110000.    550.     nan    400.   1250.    950.   1050.    600.    800.\n",
            "     nan   1300.    700.   1000.    900.    450.    700.   1100.   1200.\n",
            "    500.   1000.    750.    850.    950.    600.   1100.    700.]\n"
          ]
        }
      ]
    },
    {
      "cell_type": "code",
      "source": [
        "print(df.info())  # Check data types & missing values\n",
        "print(df.head())  # Preview first 5 rows\n",
        "print(df.describe())  # Summary statistics for numerical columns\n"
      ],
      "metadata": {
        "colab": {
          "base_uri": "https://localhost:8080/"
        },
        "id": "Ms-DrOBi3HJu",
        "outputId": "d9e6449b-8143-4957-d176-e614da6fba07"
      },
      "execution_count": 7,
      "outputs": [
        {
          "output_type": "stream",
          "name": "stdout",
          "text": [
            "<class 'pandas.core.frame.DataFrame'>\n",
            "RangeIndex: 44 entries, 0 to 43\n",
            "Data columns (total 4 columns):\n",
            " #   Column            Non-Null Count  Dtype  \n",
            "---  ------            --------------  -----  \n",
            " 0   Sales             42 non-null     float64\n",
            " 1   Region            42 non-null     object \n",
            " 2   Product Category  42 non-null     object \n",
            " 3   Profit            41 non-null     float64\n",
            "dtypes: float64(2), object(2)\n",
            "memory usage: 1.5+ KB\n",
            "None\n",
            "    Sales Region Product Category  Profit\n",
            "0  1500.0  North      Electronics   300.0\n",
            "1  2300.0  South        Furniture   500.0\n",
            "2  1800.0   East  Office Supplies     NaN\n",
            "3  2700.0   West      Electronics   700.0\n",
            "4     NaN  North        Furniture  1200.0\n",
            "              Sales         Profit\n",
            "count     42.000000      41.000000\n",
            "mean    7388.047619    3445.121951\n",
            "std    21008.438259   17059.890111\n",
            "min    -5000.000000     150.000000\n",
            "25%     2600.000000     550.000000\n",
            "50%     3000.000000     800.000000\n",
            "75%     3500.000000    1050.000000\n",
            "max    99999.000000  110000.000000\n"
          ]
        }
      ]
    },
    {
      "cell_type": "markdown",
      "source": [
        "**Handling missing values**"
      ],
      "metadata": {
        "id": "QpTRsrRr3NoR"
      }
    },
    {
      "cell_type": "code",
      "source": [
        "# Check missing values\n",
        "print(\"Missing values:\\n\", df.isnull().sum())\n",
        "\n",
        "# Fill missing values for numerical columns with mean\n",
        "df[\"Sales\"].fillna(df[\"Sales\"].mean(), inplace=True)\n",
        "df[\"Profit\"].fillna(df[\"Profit\"].mean(), inplace=True)\n",
        "\n",
        "# Fill missing categorical values with the most frequent value (mode)\n",
        "df[\"Region\"].fillna(df[\"Region\"].mode()[0], inplace=True)\n",
        "df[\"Product Category\"].fillna(df[\"Product Category\"].mode()[0], inplace=True)\n"
      ],
      "metadata": {
        "colab": {
          "base_uri": "https://localhost:8080/"
        },
        "id": "Nv2bg1K73KLt",
        "outputId": "bacbf508-0126-4f7a-8cda-197d42a24d33"
      },
      "execution_count": 8,
      "outputs": [
        {
          "output_type": "stream",
          "name": "stdout",
          "text": [
            "Missing values:\n",
            " Sales               2\n",
            "Region              2\n",
            "Product Category    2\n",
            "Profit              3\n",
            "dtype: int64\n"
          ]
        },
        {
          "output_type": "stream",
          "name": "stderr",
          "text": [
            "<ipython-input-8-a8a505f6aa36>:5: FutureWarning: A value is trying to be set on a copy of a DataFrame or Series through chained assignment using an inplace method.\n",
            "The behavior will change in pandas 3.0. This inplace method will never work because the intermediate object on which we are setting values always behaves as a copy.\n",
            "\n",
            "For example, when doing 'df[col].method(value, inplace=True)', try using 'df.method({col: value}, inplace=True)' or df[col] = df[col].method(value) instead, to perform the operation inplace on the original object.\n",
            "\n",
            "\n",
            "  df[\"Sales\"].fillna(df[\"Sales\"].mean(), inplace=True)\n",
            "<ipython-input-8-a8a505f6aa36>:6: FutureWarning: A value is trying to be set on a copy of a DataFrame or Series through chained assignment using an inplace method.\n",
            "The behavior will change in pandas 3.0. This inplace method will never work because the intermediate object on which we are setting values always behaves as a copy.\n",
            "\n",
            "For example, when doing 'df[col].method(value, inplace=True)', try using 'df.method({col: value}, inplace=True)' or df[col] = df[col].method(value) instead, to perform the operation inplace on the original object.\n",
            "\n",
            "\n",
            "  df[\"Profit\"].fillna(df[\"Profit\"].mean(), inplace=True)\n",
            "<ipython-input-8-a8a505f6aa36>:9: FutureWarning: A value is trying to be set on a copy of a DataFrame or Series through chained assignment using an inplace method.\n",
            "The behavior will change in pandas 3.0. This inplace method will never work because the intermediate object on which we are setting values always behaves as a copy.\n",
            "\n",
            "For example, when doing 'df[col].method(value, inplace=True)', try using 'df.method({col: value}, inplace=True)' or df[col] = df[col].method(value) instead, to perform the operation inplace on the original object.\n",
            "\n",
            "\n",
            "  df[\"Region\"].fillna(df[\"Region\"].mode()[0], inplace=True)\n",
            "<ipython-input-8-a8a505f6aa36>:10: FutureWarning: A value is trying to be set on a copy of a DataFrame or Series through chained assignment using an inplace method.\n",
            "The behavior will change in pandas 3.0. This inplace method will never work because the intermediate object on which we are setting values always behaves as a copy.\n",
            "\n",
            "For example, when doing 'df[col].method(value, inplace=True)', try using 'df.method({col: value}, inplace=True)' or df[col] = df[col].method(value) instead, to perform the operation inplace on the original object.\n",
            "\n",
            "\n",
            "  df[\"Product Category\"].fillna(df[\"Product Category\"].mode()[0], inplace=True)\n"
          ]
        }
      ]
    },
    {
      "cell_type": "code",
      "source": [
        "df.isnull().sum()"
      ],
      "metadata": {
        "colab": {
          "base_uri": "https://localhost:8080/",
          "height": 209
        },
        "id": "y9Kw4LwR3Y0W",
        "outputId": "5c33ce69-3d07-42e7-a884-7d70b843b7f7"
      },
      "execution_count": 9,
      "outputs": [
        {
          "output_type": "execute_result",
          "data": {
            "text/plain": [
              "Sales               0\n",
              "Region              0\n",
              "Product Category    0\n",
              "Profit              0\n",
              "dtype: int64"
            ],
            "text/html": [
              "<div>\n",
              "<style scoped>\n",
              "    .dataframe tbody tr th:only-of-type {\n",
              "        vertical-align: middle;\n",
              "    }\n",
              "\n",
              "    .dataframe tbody tr th {\n",
              "        vertical-align: top;\n",
              "    }\n",
              "\n",
              "    .dataframe thead th {\n",
              "        text-align: right;\n",
              "    }\n",
              "</style>\n",
              "<table border=\"1\" class=\"dataframe\">\n",
              "  <thead>\n",
              "    <tr style=\"text-align: right;\">\n",
              "      <th></th>\n",
              "      <th>0</th>\n",
              "    </tr>\n",
              "  </thead>\n",
              "  <tbody>\n",
              "    <tr>\n",
              "      <th>Sales</th>\n",
              "      <td>0</td>\n",
              "    </tr>\n",
              "    <tr>\n",
              "      <th>Region</th>\n",
              "      <td>0</td>\n",
              "    </tr>\n",
              "    <tr>\n",
              "      <th>Product Category</th>\n",
              "      <td>0</td>\n",
              "    </tr>\n",
              "    <tr>\n",
              "      <th>Profit</th>\n",
              "      <td>0</td>\n",
              "    </tr>\n",
              "  </tbody>\n",
              "</table>\n",
              "</div><br><label><b>dtype:</b> int64</label>"
            ]
          },
          "metadata": {},
          "execution_count": 9
        }
      ]
    },
    {
      "cell_type": "markdown",
      "source": [
        "**Removing duplicates**"
      ],
      "metadata": {
        "id": "FJp8Ca2w3j73"
      }
    },
    {
      "cell_type": "code",
      "source": [
        "# Check for duplicates\n",
        "print(\"Duplicates before removal:\", df.duplicated().sum())\n",
        "\n",
        "# Remove duplicate rows\n",
        "df.drop_duplicates(inplace=True)\n",
        "\n",
        "print(\"Duplicates after removal:\", df.duplicated().sum())\n"
      ],
      "metadata": {
        "colab": {
          "base_uri": "https://localhost:8080/"
        },
        "id": "blAFD6Ou3gnO",
        "outputId": "e8c230ec-e481-4647-fbcb-728eaf872fd2"
      },
      "execution_count": 10,
      "outputs": [
        {
          "output_type": "stream",
          "name": "stdout",
          "text": [
            "Duplicates before removal: 0\n",
            "Duplicates after removal: 0\n"
          ]
        }
      ]
    },
    {
      "cell_type": "markdown",
      "source": [
        "**detect and handling outliers**"
      ],
      "metadata": {
        "id": "HXUQjgej3r73"
      }
    },
    {
      "cell_type": "code",
      "source": [
        "# Function to remove outliers using IQR\n",
        "def remove_outliers(df, column):\n",
        "    Q1 = df[column].quantile(0.25)\n",
        "    Q3 = df[column].quantile(0.75)\n",
        "    IQR = Q3 - Q1\n",
        "    lower_bound = Q1 - 1.5 * IQR\n",
        "    upper_bound = Q3 + 1.5 * IQR\n",
        "    return df[(df[column] >= lower_bound) & (df[column] <= upper_bound)]\n",
        "\n",
        "# Remove outliers from Sales & Profit\n",
        "df = remove_outliers(df, \"Sales\")\n",
        "df = remove_outliers(df, \"Profit\")\n",
        "\n",
        "print(\"Dataset after outlier removal:\", df.shape)\n"
      ],
      "metadata": {
        "colab": {
          "base_uri": "https://localhost:8080/"
        },
        "id": "COm8Xtcs3oww",
        "outputId": "eea6856d-82b4-419d-a39a-e8ed94a213a1"
      },
      "execution_count": 11,
      "outputs": [
        {
          "output_type": "stream",
          "name": "stdout",
          "text": [
            "Dataset after outlier removal: (35, 4)\n"
          ]
        }
      ]
    },
    {
      "cell_type": "markdown",
      "source": [
        "**Statistical analysis**"
      ],
      "metadata": {
        "id": "zcMIlsu334Y5"
      }
    },
    {
      "cell_type": "code",
      "source": [
        "print(\"Mean Sales:\", df[\"Sales\"].mean())\n",
        "print(\"Median Sales:\", df[\"Sales\"].median())\n",
        "print(\"Standard Deviation of Sales:\", df[\"Sales\"].std())\n",
        "print(\"Variance of Sales:\", df[\"Sales\"].var())\n",
        "\n",
        "print(\"Mean Profit:\", df[\"Profit\"].mean())\n",
        "print(\"Median Profit:\", df[\"Profit\"].median())\n",
        "print(\"Standard Deviation of Profit:\", df[\"Profit\"].std())\n",
        "print(\"Variance of Profit:\", df[\"Profit\"].var())\n"
      ],
      "metadata": {
        "colab": {
          "base_uri": "https://localhost:8080/"
        },
        "id": "Vk28J-qn39kY",
        "outputId": "452990a0-f287-4106-fd7e-88db1984ffc1"
      },
      "execution_count": 12,
      "outputs": [
        {
          "output_type": "stream",
          "name": "stdout",
          "text": [
            "Mean Sales: 2931.4285714285716\n",
            "Median Sales: 2900.0\n",
            "Standard Deviation of Sales: 741.1324516740377\n",
            "Variance of Sales: 549277.3109243698\n",
            "Mean Profit: 727.1428571428571\n",
            "Median Profit: 700.0\n",
            "Standard Deviation of Profit: 293.64415668680095\n",
            "Variance of Profit: 86226.8907563025\n"
          ]
        }
      ]
    },
    {
      "cell_type": "markdown",
      "source": [
        "correlation analysis"
      ],
      "metadata": {
        "id": "h7fd1Tl44Dye"
      }
    },
    {
      "cell_type": "code",
      "source": [
        "# Compute correlation matrix for all numerical columns\n",
        "correlation_matrix = df.corr(numeric_only=True)  # Ensure only numerical data is used\n",
        "\n",
        "# Print correlation matrix\n",
        "print(\"Correlation Matrix:\\n\", correlation_matrix)\n",
        "\n",
        "# Print correlation specifically between Sales & Profit\n",
        "print(\"Correlation between Sales & Profit:\\n\", df[[\"Sales\", \"Profit\"]].corr())\n"
      ],
      "metadata": {
        "colab": {
          "base_uri": "https://localhost:8080/"
        },
        "id": "KcqYyhwg4X7W",
        "outputId": "b6cf022d-a71e-4d40-f46b-ffa7d4f9d07e"
      },
      "execution_count": 14,
      "outputs": [
        {
          "output_type": "stream",
          "name": "stdout",
          "text": [
            "Correlation Matrix:\n",
            "            Sales    Profit\n",
            "Sales   1.000000  0.931852\n",
            "Profit  0.931852  1.000000\n",
            "Correlation between Sales & Profit:\n",
            "            Sales    Profit\n",
            "Sales   1.000000  0.931852\n",
            "Profit  0.931852  1.000000\n"
          ]
        }
      ]
    },
    {
      "cell_type": "markdown",
      "source": [
        "**Data visualization**"
      ],
      "metadata": {
        "id": "eFXSeIbN4gDS"
      }
    },
    {
      "cell_type": "markdown",
      "source": [
        "histogram of sales and profit"
      ],
      "metadata": {
        "id": "s7S1Fsh04kM_"
      }
    },
    {
      "cell_type": "code",
      "source": [
        "plt.figure(figsize=(12, 5))\n",
        "plt.subplot(1, 2, 1)\n",
        "sns.histplot(df[\"Sales\"], bins=30, kde=True, color='blue')\n",
        "plt.title(\"Sales Distribution\")\n",
        "\n",
        "plt.subplot(1, 2, 2)\n",
        "sns.histplot(df[\"Profit\"], bins=30, kde=True, color='green')\n",
        "plt.title(\"Profit Distribution\")\n",
        "\n",
        "plt.show()\n"
      ],
      "metadata": {
        "colab": {
          "base_uri": "https://localhost:8080/",
          "height": 397
        },
        "id": "4EtKzckg4aY7",
        "outputId": "b69e09b8-959f-40a6-ddd1-9f79b7c922ef"
      },
      "execution_count": 15,
      "outputs": [
        {
          "output_type": "display_data",
          "data": {
            "text/plain": [
              "<Figure size 1200x500 with 2 Axes>"
            ],
            "image/png": "[encoded data removed]"
          },
          "metadata": {}
        }
      ]
    },
    {
      "cell_type": "markdown",
      "source": [
        "Box plot of sales and profit"
      ],
      "metadata": {
        "id": "jBpyB_Jz4uNQ"
      }
    },
    {
      "cell_type": "code",
      "source": [
        "plt.figure(figsize=(12, 5))\n",
        "plt.subplot(1, 2, 1)\n",
        "sns.boxplot(y=df[\"Sales\"], color='blue')\n",
        "plt.title(\"Boxplot of Sales\")\n",
        "\n",
        "plt.subplot(1, 2, 2)\n",
        "sns.boxplot(y=df[\"Profit\"], color='green')\n",
        "plt.title(\"Boxplot of Profit\")\n",
        "\n",
        "plt.show()\n"
      ],
      "metadata": {
        "colab": {
          "base_uri": "https://localhost:8080/",
          "height": 361
        },
        "id": "I3XJgmx64s_o",
        "outputId": "46b2654a-3f6c-44ac-bfd1-2d50e8291426"
      },
      "execution_count": 16,
      "outputs": [
        {
          "output_type": "display_data",
          "data": {
            "text/plain": [
              "<Figure size 1200x500 with 2 Axes>"
            ],
            "image/png": "[encoded data removed]"
          },
          "metadata": {}
        }
      ]
    },
    {
      "cell_type": "markdown",
      "source": [
        "heapmap of sales and profit"
      ],
      "metadata": {
        "id": "UKBNYGrh42cv"
      }
    },
    {
      "cell_type": "code",
      "source": [
        "plt.figure(figsize=(8, 6))\n",
        "sns.heatmap(correlation_matrix, annot=True, cmap=\"coolwarm\", fmt=\".2f\")\n",
        "plt.title(\"Feature Correlation Heatmap\")\n",
        "plt.show()\n"
      ],
      "metadata": {
        "colab": {
          "base_uri": "https://localhost:8080/",
          "height": 545
        },
        "id": "_xmf7mrr4zVE",
        "outputId": "cdc8a617-44cc-4ead-b834-a5a4364d0a37"
      },
      "execution_count": 17,
      "outputs": [
        {
          "output_type": "display_data",
          "data": {
            "text/plain": [
              "<Figure size 800x600 with 2 Axes>"
            ],
            "image/png": "[encoded data removed]"
          },
          "metadata": {}
        }
      ]
    },
    {
      "cell_type": "code",
      "source": [],
      "metadata": {
        "id": "XvH1komH5iF3"
      },
      "execution_count": null,
      "outputs": []
    }
  ]
}